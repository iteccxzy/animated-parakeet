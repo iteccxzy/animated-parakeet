{
 "cells": [
  {
   "cell_type": "markdown",
   "id": "bae590c2",
   "metadata": {},
   "source": [
    "# Reporte multiples files sin observaciones"
   ]
  },
  {
   "cell_type": "markdown",
   "id": "31506951",
   "metadata": {},
   "source": [
    "importar librerias"
   ]
  },
  {
   "cell_type": "code",
   "execution_count": 5,
   "id": "6d09c0bd",
   "metadata": {},
   "outputs": [],
   "source": [
    "import pandas as pd\n",
    "import os\n",
    "import datetime"
   ]
  },
  {
   "cell_type": "markdown",
   "id": "5cb72886",
   "metadata": {},
   "source": [
    "obtener ruta de archivos"
   ]
  },
  {
   "cell_type": "code",
   "execution_count": 6,
   "id": "742e9cd3",
   "metadata": {},
   "outputs": [],
   "source": [
    "base_dir = os.path.dirname(os.path.realpath('__file__'))\n",
    "descargas = os.path.join(base_dir, 'descargas')\n",
    "listado = os.listdir(descargas)\n",
    "output = os.path.join(base_dir, 'output')\n",
    "existe = os.path.exists(output)\n",
    "if not existe:\n",
    "    os.makedirs(output)    "
   ]
  },
  {
   "cell_type": "markdown",
   "id": "0ad41f50",
   "metadata": {},
   "source": [
    "iterar"
   ]
  },
  {
   "cell_type": "code",
   "execution_count": 7,
   "id": "7780d0e6",
   "metadata": {},
   "outputs": [],
   "source": [
    "for l in listado:\n",
    "    files = os.path.join(descargas, l)\n",
    "    data_s = pd.read_excel(files)\n",
    "    \n",
    "    nombre = data_s['Nombre'][1]    \n",
    "    col_fh = data_s['Fecha/Hora']\n",
    "    \n",
    "    temp = {}\n",
    "    main_dict = {}\n",
    "\n",
    "    #crear encabezado y asignar una lista vacia\n",
    "    cols = ['fecha', 'entrada', 'salida', 'hs_trab', 'observaciones']\n",
    "    for i in range(len(cols)):\n",
    "                main_dict[cols[i]] = []\n",
    "    \n",
    "    #contar si marca 1 o 2 veces\n",
    "    cont = {}\n",
    "    for r in col_fh:\n",
    "        fecha, _ = str(r).split(' ')\n",
    "        if fecha in cont:\n",
    "            cont[fecha] = 2\n",
    "        else:\n",
    "            cont[fecha] = 1\n",
    "    \n",
    "    #si marco una vez agregar otra marca\n",
    "    for i, j in cont.items():     \n",
    "        if j == 1:     \n",
    "            i += ' --'\n",
    "            s1 = pd.Series(i)            \n",
    "            col_fh =  col_fh.append(s1)\n",
    "            \n",
    "    #recorrer la columna fecha-hora\n",
    "    for row in col_fh:\n",
    "        fecha, hora = str(row).split(' ')\n",
    "        try:\n",
    "            hora = datetime.datetime.strptime(hora, '%H:%M:%S')\n",
    "        except:\n",
    "            hora = 'None'\n",
    "                \n",
    "        if fecha not in temp:\n",
    "            temp[fecha] = []\n",
    "            temp[fecha].append(fecha)\n",
    "            temp[fecha].append(hora)\n",
    "        else:\n",
    "            temp[fecha].append(hora)\n",
    "            fecha = temp[fecha][0]\n",
    "            entrada = str(temp[fecha][1])[11:16]\n",
    "            salida = str(temp[fecha][2])[11:16]              \n",
    "            try:\n",
    "                horas_t = str(temp[fecha][2] - temp[fecha][1])[:4]\n",
    "            except:\n",
    "                horas_t = 'None'     \n",
    "            obs= '-' \n",
    "\n",
    "            fila = [fecha, entrada, salida , horas_t, obs]\n",
    "\n",
    "            for i in range(len(cols)):\n",
    "                main_dict[cols[i]].append(fila[i])   \n",
    "    filename, _ = l.split('.')\n",
    "    df = pd.DataFrame(main_dict)\n",
    "    df = df.sort_values(by=['fecha'])\n",
    "    df.to_excel(f\"{output}\\{filename}.xlsx\", sheet_name=nombre, \n",
    "                columns=['fecha', 'entrada' ,'salida','hs_trab','observaciones'], \n",
    "                index=False) \n",
    "    "
   ]
  }
 ],
 "metadata": {
  "kernelspec": {
   "display_name": "Python 3 (ipykernel)",
   "language": "python",
   "name": "python3"
  },
  "language_info": {
   "codemirror_mode": {
    "name": "ipython",
    "version": 3
   },
   "file_extension": ".py",
   "mimetype": "text/x-python",
   "name": "python",
   "nbconvert_exporter": "python",
   "pygments_lexer": "ipython3",
   "version": "3.8.5"
  }
 },
 "nbformat": 4,
 "nbformat_minor": 5
}
