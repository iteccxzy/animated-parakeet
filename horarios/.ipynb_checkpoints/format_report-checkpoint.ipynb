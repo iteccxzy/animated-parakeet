{
 "cells": [
  {
   "cell_type": "markdown",
   "id": "58e1b7af",
   "metadata": {},
   "source": [
    "# Horarios de reloj formateados"
   ]
  },
  {
   "cell_type": "markdown",
   "id": "d4d71609",
   "metadata": {},
   "source": [
    "importar librerias"
   ]
  },
  {
   "cell_type": "code",
   "execution_count": 455,
   "id": "27e501aa",
   "metadata": {},
   "outputs": [],
   "source": [
    "import pandas as pd\n",
    "import os\n",
    "import datetime"
   ]
  },
  {
   "cell_type": "markdown",
   "id": "7065a9d0",
   "metadata": {},
   "source": [
    "obtener ruta de archivos"
   ]
  },
  {
   "cell_type": "code",
   "execution_count": 456,
   "id": "19e19a5d",
   "metadata": {},
   "outputs": [],
   "source": [
    "base_dir = os.path.dirname(os.path.realpath('__file__'))\n",
    "descargas = os.path.join(base_dir, 'descargas')\n",
    "listado = os.listdir(descargas)\n",
    "output = os.path.join(base_dir, 'output')\n",
    "existe = os.path.exists(output)\n",
    "if not existe:\n",
    "    os.makedirs(output)    "
   ]
  },
  {
   "cell_type": "markdown",
   "id": "fc9f459b",
   "metadata": {},
   "source": [
    "iterar"
   ]
  },
  {
   "cell_type": "code",
   "execution_count": 457,
   "id": "713b609f",
   "metadata": {},
   "outputs": [
    {
     "name": "stdout",
     "output_type": "stream",
     "text": [
      "WARNING *** file size (5373) not 512 + multiple of sector size (512)\n"
     ]
    }
   ],
   "source": [
    "for l in listado:\n",
    "    files = os.path.join(descargas, l)\n",
    "    data_s = pd.read_excel(files)\n",
    "    \n",
    "    nombre = data_s['Nombre'][1]\n",
    "    \n",
    "    col_fh = data_s['Fecha/Hora']\n",
    "    temp = {}\n",
    "    main_dict = {}\n",
    "\n",
    "    cols = ['fecha', 'entrada', 'salida', 'hs_trab', 'observaciones']\n",
    "    for i in range(len(cols)):\n",
    "                main_dict[cols[i]] = []\n",
    "\n",
    "    for row in col_fh:\n",
    "        fecha, hora = str(row).split(' ')\n",
    "        hora = datetime.datetime.strptime(hora, '%H:%M:%S')\n",
    "\n",
    "        if fecha not in temp:\n",
    "            temp['entrada'] = str(hora)\n",
    "            temp[fecha] = hora\n",
    "        else:\n",
    "            temp['salida'] = str(hora)        \n",
    "            entrada = temp['entrada'][11:16]\n",
    "            salida = temp['salida'][11:16]\n",
    "            horas_t =  hora - temp[fecha] \n",
    "            horas_t = str(horas_t)\n",
    "            obs= '-'        \n",
    "\n",
    "            fila = [fecha, entrada, salida , horas_t[:4], obs]\n",
    "\n",
    "            for i in range(len(cols)):\n",
    "                main_dict[cols[i]].append(fila[i])         \n",
    "           \n",
    "    df = pd.DataFrame(main_dict)\n",
    "    #df.style.hide_index()\n",
    "    \n",
    "    df.to_excel(f\"{output}\\{l}.xlsx\", sheet_name=nombre, \n",
    "                #columns=['fecha', 'entrada' ,'salida','hs_trab','observaciones'], \n",
    "                index=False) \n",
    "    "
   ]
  }
 ],
 "metadata": {
  "kernelspec": {
   "display_name": "Python 3 (ipykernel)",
   "language": "python",
   "name": "python3"
  },
  "language_info": {
   "codemirror_mode": {
    "name": "ipython",
    "version": 3
   },
   "file_extension": ".py",
   "mimetype": "text/x-python",
   "name": "python",
   "nbconvert_exporter": "python",
   "pygments_lexer": "ipython3",
   "version": "3.8.5"
  }
 },
 "nbformat": 4,
 "nbformat_minor": 5
}
