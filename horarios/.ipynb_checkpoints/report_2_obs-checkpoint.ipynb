{
 "cells": [
  {
   "cell_type": "markdown",
   "id": "43f9b030",
   "metadata": {},
   "source": [
    "# Horarios de reloj formateados"
   ]
  },
  {
   "cell_type": "markdown",
   "id": "31506951",
   "metadata": {},
   "source": [
    "importar librerias"
   ]
  },
  {
   "cell_type": "code",
   "execution_count": null,
   "id": "6d09c0bd",
   "metadata": {},
   "outputs": [],
   "source": [
    "import pandas as pd\n",
    "import os\n",
    "import datetime"
   ]
  },
  {
   "cell_type": "markdown",
   "id": "5cb72886",
   "metadata": {},
   "source": [
    "obtener ruta de archivos"
   ]
  },
  {
   "cell_type": "code",
   "execution_count": null,
   "id": "742e9cd3",
   "metadata": {},
   "outputs": [],
   "source": [
    "base_dir   = os.path.dirname(os.path.realpath('__file__'))\n",
    "downloads  = os.path.join(base_dir, 'descargas')\n",
    "list_files = os.listdir(downloads)\n",
    "output     = os.path.join(base_dir, 'output')\n",
    "exist      = os.path.exists(output)\n",
    "if not exist:\n",
    "    os.makedirs(output)    "
   ]
  },
  {
   "cell_type": "markdown",
   "id": "33c02916",
   "metadata": {},
   "source": [
    "obtener ruta de observaciones"
   ]
  },
  {
   "cell_type": "code",
   "execution_count": null,
   "id": "bf21c49d",
   "metadata": {},
   "outputs": [],
   "source": [
    "data_obs = pd.read_excel('observaciones.xls')\n",
    "df_obs   = pd.DataFrame(data_obs)"
   ]
  },
  {
   "cell_type": "markdown",
   "id": "ec7082c4",
   "metadata": {},
   "source": [
    "crear dict, encabezado y asignar una lista vacia a cada key"
   ]
  },
  {
   "cell_type": "code",
   "execution_count": null,
   "id": "a6c231ee",
   "metadata": {},
   "outputs": [],
   "source": [
    "main_dict = {}\n",
    "cols      = ['fecha', 'entrada', 'salida', 'hs_trab', 'observaciones' , 'nombre']\n",
    "for i in range(len(cols)):\n",
    "            main_dict[cols[i]] = []  "
   ]
  },
  {
   "cell_type": "markdown",
   "id": "c0ab2aeb",
   "metadata": {},
   "source": [
    "iterar los archivos"
   ]
  },
  {
   "cell_type": "code",
   "execution_count": null,
   "id": "7780d0e6",
   "metadata": {},
   "outputs": [],
   "source": [
    "for l in list_files:\n",
    "    files     = os.path.join(downloads, l)\n",
    "    data_file = pd.read_excel(files)\n",
    "    \n",
    "    nombre    = data_file['Nombre'][1]  \n",
    "    fh_series = data_file['Fecha/Hora']   \n",
    "    \n",
    "    #contar si marca 1 o 2 veces\n",
    "    cont = {}\n",
    "    for r in fh_series:\n",
    "        fecha, _ = str(r).split(' ')\n",
    "        if fecha in cont:\n",
    "            cont[fecha] = 2\n",
    "        else:\n",
    "            cont[fecha] = 1\n",
    "    \n",
    "    #si marco una vez agregar otra marca\n",
    "    for i, j in cont.items():    \n",
    "        if j == 1:     \n",
    "            dt_string = f'{i} 00:00:00'\n",
    "            i      = datetime.datetime.strptime(dt_string, \"%Y-%m-%d %H:%M:%S\")           \n",
    "            s1     = pd.Series(i)            \n",
    "            fh_series = fh_series.append(s1)            \n",
    "    \n",
    "    #ordernar columna luego de agregar fila        \n",
    "    fh_series = fh_series.sort_values()\n",
    "    \n",
    "    #agregar salto de linea\n",
    "    fila  = [ '', '', '' , '', '', '']\n",
    "    fila1 = [ 'Nombre', f'{nombre}', '' , '', '', '']\n",
    "    for i in range(len(cols)):\n",
    "        main_dict[cols[i]].append(fila[i])\n",
    "        main_dict[cols[i]].append(fila1[i]) \n",
    "        main_dict[cols[i]].append(cols[i])\n",
    "\n",
    "    #recorrer la columna fecha-hora\n",
    "    temp = {}  \n",
    "    for row in fh_series:\n",
    "        fecha, hora = str(row).split(' ')\n",
    "        try:\n",
    "            if hora == '00:00:00':\n",
    "                hora = 'None'\n",
    "            else:               \n",
    "                hora = datetime.datetime.strptime(hora, '%H:%M:%S')               \n",
    "        except:\n",
    "            hora = 'None'    \n",
    "            \n",
    "        #si es el primer registro de esa fecha        \n",
    "        if fecha not in temp:\n",
    "            temp[fecha] = []\n",
    "            temp[fecha].append(fecha)\n",
    "            temp[fecha].append(hora)\n",
    "            \n",
    "        #si es el segundo registro de esa fecha\n",
    "        else:\n",
    "            temp[fecha].append(hora)\n",
    "            fecha   = temp[fecha][0]\n",
    "            entrada = str(temp[fecha][1])[11:16]\n",
    "            salida  = str(temp[fecha][2])[11:16]  \n",
    "            obs     = '----'\n",
    "            try:\n",
    "                horas_t = str(temp[fecha][2] - temp[fecha][1])[:4]\n",
    "            except:\n",
    "                horas_t = 'None'  \n",
    "                \n",
    "            #recorrer observaciones\n",
    "            p_gen = df_obs.iterrows()\n",
    "            for o in p_gen:\n",
    "                nan = o[1][1]\n",
    "                fecha2, _ = str(o[1][2]).split(' ')                \n",
    "                if  nombre == o[1][0]  and fecha == fecha2  and not pd.isna(nan):\n",
    "                    obs = o[1][1]                                               \n",
    "            \n",
    "            #agregamos el registro a main_dict\n",
    "            fila = [fecha, entrada, salida , horas_t, obs, nombre]            \n",
    "            for i in range(len(cols)):\n",
    "                main_dict[cols[i]].append(fila[i])     "
   ]
  },
  {
   "cell_type": "markdown",
   "id": "efe418da",
   "metadata": {},
   "source": [
    "genero el dataframe y lo guardo"
   ]
  },
  {
   "cell_type": "code",
   "execution_count": null,
   "id": "ed9f6be1",
   "metadata": {},
   "outputs": [],
   "source": [
    "df = pd.DataFrame(main_dict)\n",
    "hs = datetime.datetime.now()\n",
    "filename = f'reporte{hs:%Y-%m-%d}'\n",
    "df.to_excel(f\"{output}\\{filename}.xlsx\", sheet_name='reporte', \n",
    "                columns=['fecha', 'entrada' ,'salida','hs_trab','observaciones'], \n",
    "               index=False, startrow = 2, header= False) "
   ]
  },
  {
   "cell_type": "markdown",
   "id": "48378c42",
   "metadata": {},
   "source": [
    "print"
   ]
  },
  {
   "cell_type": "code",
   "execution_count": null,
   "id": "bec7930c",
   "metadata": {
    "scrolled": false
   },
   "outputs": [],
   "source": [
    "df.style.hide_columns([\"nombre\"]).hide_index()"
   ]
  }
 ],
 "metadata": {
  "kernelspec": {
   "display_name": "Python 3 (ipykernel)",
   "language": "python",
   "name": "python3"
  },
  "language_info": {
   "codemirror_mode": {
    "name": "ipython",
    "version": 3
   },
   "file_extension": ".py",
   "mimetype": "text/x-python",
   "name": "python",
   "nbconvert_exporter": "python",
   "pygments_lexer": "ipython3",
   "version": "3.8.5"
  }
 },
 "nbformat": 4,
 "nbformat_minor": 5
}
